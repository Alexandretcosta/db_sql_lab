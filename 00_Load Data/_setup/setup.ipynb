{
 "cells": [
  {
   "cell_type": "code",
   "execution_count": 0,
   "metadata": {
    "application/vnd.databricks.v1+cell": {
     "cellMetadata": {
      "byteLimit": 2048000,
      "rowLimit": 10000
     },
     "inputWidgets": {},
     "nuid": "3f7577db-ef30-44ec-becc-dd291b42356f",
     "showTitle": false,
     "title": ""
    },
    "jupyter": {
     "outputs_hidden": true
    }
   },
   "outputs": [],
   "source": [
    "%run \"./env\""
   ]
  },
  {
   "cell_type": "code",
   "execution_count": 0,
   "metadata": {
    "application/vnd.databricks.v1+cell": {
     "cellMetadata": {
      "byteLimit": 2048000,
      "rowLimit": 10000
     },
     "inputWidgets": {},
     "nuid": "f5e3426a-16d2-49ac-ba3d-390698159069",
     "showTitle": false,
     "title": ""
    }
   },
   "outputs": [],
   "source": [
    "def clean_string(value, replacement: str = \"_\") -> str:\n",
    "    import re\n",
    "    replacement_2x = replacement+replacement\n",
    "    value = re.sub(r\"[^a-zA-Z\\d]\", replacement, str(value))\n",
    "    while replacement_2x in value:\n",
    "        value = value.replace(replacement_2x, replacement)\n",
    "    return value"
   ]
  },
  {
   "cell_type": "code",
   "execution_count": 0,
   "metadata": {
    "application/vnd.databricks.v1+cell": {
     "cellMetadata": {
      "byteLimit": 2048000,
      "rowLimit": 10000
     },
     "inputWidgets": {},
     "nuid": "7ec5d5dd-ab34-491c-a7b3-1084d711513f",
     "showTitle": false,
     "title": ""
    }
   },
   "outputs": [],
   "source": [
    "def get_username():\n",
    "  row = spark.sql(\"SELECT current_user() as username, current_catalog() as catalog, current_database() as schema\").first()\n",
    "  return row[\"username\"]"
   ]
  },
  {
   "cell_type": "code",
   "execution_count": 0,
   "metadata": {
    "application/vnd.databricks.v1+cell": {
     "cellMetadata": {
      "byteLimit": 2048000,
      "rowLimit": 10000
     },
     "inputWidgets": {},
     "nuid": "2682fa4d-a4b4-4133-933c-d1052ea76f6e",
     "showTitle": false,
     "title": ""
    }
   },
   "outputs": [],
   "source": [
    "def get_workspace_id():\n",
    "  return dbutils.entry_point.getDbutils().notebook().getContext().workspaceId().getOrElse(None)"
   ]
  },
  {
   "cell_type": "code",
   "execution_count": 0,
   "metadata": {
    "application/vnd.databricks.v1+cell": {
     "cellMetadata": {
      "byteLimit": 2048000,
      "rowLimit": 10000
     },
     "inputWidgets": {},
     "nuid": "6452892c-2fe8-4acb-b9e2-eb70bca6b06d",
     "showTitle": false,
     "title": ""
    }
   },
   "outputs": [],
   "source": [
    "from typing import Any\n",
    "def stable_hash(*args: Any, length: int) -> str:\n",
    "    import hashlib\n",
    "    args = [str(a) for a in args]\n",
    "    data = \":\".join(args).encode(\"utf-8\")\n",
    "    value = int(hashlib.md5(data).hexdigest(), 16)\n",
    "    numerals = \"0123456789abcdefghijklmnopqrstuvwxyz\"\n",
    "    result = []\n",
    "    for i in range(length):\n",
    "        result += numerals[value % 36]\n",
    "        value //= 36\n",
    "    return \"\".join(result)"
   ]
  },
  {
   "cell_type": "code",
   "execution_count": 0,
   "metadata": {
    "application/vnd.databricks.v1+cell": {
     "cellMetadata": {
      "byteLimit": 2048000,
      "rowLimit": 10000
     },
     "inputWidgets": {},
     "nuid": "7b6d5827-3bf8-47f4-84bc-d983da9711b9",
     "showTitle": false,
     "title": ""
    }
   },
   "outputs": [],
   "source": [
    "def unique_name():\n",
    "  local_part = get_username().split(\"@\")[0]\n",
    "  hash_basis = f\"{get_username()}{get_workspace_id()}\"\n",
    "  username_hash = stable_hash(hash_basis, length=4)\n",
    "  name = f\"{local_part} {username_hash}\"\n",
    "  return clean_string(name).lower()"
   ]
  },
  {
   "cell_type": "code",
   "execution_count": 0,
   "metadata": {
    "application/vnd.databricks.v1+cell": {
     "cellMetadata": {
      "byteLimit": 2048000,
      "rowLimit": 10000
     },
     "inputWidgets": {},
     "nuid": "623ef050-8ca4-4fbc-955f-94e2dfcaad1b",
     "showTitle": false,
     "title": ""
    }
   },
   "outputs": [
    {
     "output_type": "execute_result",
     "data": {
      "text/plain": [
       "DataFrame[]"
      ]
     },
     "execution_count": 7,
     "metadata": {},
     "output_type": "execute_result"
    }
   ],
   "source": [
    "schema = prefix_db + unique_name()\n",
    "spark.sql(f\"create database if not exists {catalogo}.{schema}\")"
   ]
  },
  {
   "cell_type": "code",
   "execution_count": 0,
   "metadata": {
    "application/vnd.databricks.v1+cell": {
     "cellMetadata": {
      "byteLimit": 2048000,
      "rowLimit": 10000
     },
     "inputWidgets": {},
     "nuid": "e4195279-f3ca-4e71-84bc-7f05fd78ca3f",
     "showTitle": false,
     "title": ""
    }
   },
   "outputs": [],
   "source": [
    "schema_volume_transacoes = \"\"\n",
    "if criar_schema_comum:\n",
    "  schema_volume_transacoes = \"db_workshop_commom\"\n",
    "  spark.sql(f\"create database if not exists {catalogo}.{schema_volume_transacoes}\")\n",
    "else:\n",
    "  schema_volume_transacoes = schema\n"
   ]
  }
 ],
 "metadata": {
  "application/vnd.databricks.v1+notebook": {
   "dashboards": [],
   "environmentMetadata": {
    "base_environment": "",
    "client": "1"
   },
   "language": "python",
   "notebookMetadata": {
    "pythonIndentUnit": 2
   },
   "notebookName": "setup",
   "widgets": {
    "catalogo": {
     "currentValue": "workshops_databricks",
     "nuid": "083a18b7-251b-4739-83fc-94171bb0ed92",
     "typedWidgetInfo": {
      "autoCreated": false,
      "defaultValue": "workshops_databricks",
      "label": null,
      "name": "catalogo",
      "options": {
       "widgetDisplayType": "Text",
       "validationRegex": null
      },
      "parameterDataType": "String"
     },
     "widgetInfo": {
      "widgetType": "text",
      "defaultValue": "workshops_databricks",
      "label": null,
      "name": "catalogo",
      "options": {
       "widgetType": "text",
       "autoCreated": null,
       "validationRegex": null
      }
     }
    },
    "schema": {
     "currentValue": "db_workshop_ana_sanchez_1b4e",
     "nuid": "f8372d43-ad0c-4ed8-a491-8ee298028269",
     "typedWidgetInfo": {
      "autoCreated": false,
      "defaultValue": "db_workshop_ana_sanchez_1b4e",
      "label": null,
      "name": "schema",
      "options": {
       "widgetDisplayType": "Text",
       "validationRegex": null
      },
      "parameterDataType": "String"
     },
     "widgetInfo": {
      "widgetType": "text",
      "defaultValue": "db_workshop_ana_sanchez_1b4e",
      "label": null,
      "name": "schema",
      "options": {
       "widgetType": "text",
       "autoCreated": null,
       "validationRegex": null
      }
     }
    }
   }
  }
 },
 "nbformat": 4,
 "nbformat_minor": 0
}
