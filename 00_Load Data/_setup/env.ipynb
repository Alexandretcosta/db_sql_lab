{
 "cells": [
  {
   "cell_type": "markdown",
   "metadata": {
    "application/vnd.databricks.v1+cell": {
     "cellMetadata": {},
     "inputWidgets": {},
     "nuid": "b42cd827-388c-4d8d-8732-8886f3a50bd2",
     "showTitle": false,
     "title": ""
    }
   },
   "source": [
    "## Notebook para realizar a configuração do ambiente"
   ]
  },
  {
   "cell_type": "code",
   "execution_count": 0,
   "metadata": {
    "application/vnd.databricks.v1+cell": {
     "cellMetadata": {},
     "inputWidgets": {},
     "nuid": "d46afe8d-0321-4fb5-affe-1dced4455c3d",
     "showTitle": false,
     "title": ""
    }
   },
   "outputs": [],
   "source": [
    "##### Preencha com o nome do catálogo\n",
    "catalogo = \"workshops_databricks\"\n",
    "\n",
    "##### Preencha com o nome do prefixo do schema\n",
    "prefix_db = \"db_workshop_\"\n",
    "\n",
    "#### Preencher como true caso tenham um schema comum para criarmos a tabela de transacoes\n",
    "criar_schema_comum = True\n",
    "\n",
    "model_name = \"churn_model_workshop\""
   ]
  }
 ],
 "metadata": {
  "application/vnd.databricks.v1+notebook": {
   "dashboards": [],
   "environmentMetadata": null,
   "language": "python",
   "notebookMetadata": {
    "pythonIndentUnit": 2
   },
   "notebookName": "env",
   "widgets": {}
  }
 },
 "nbformat": 4,
 "nbformat_minor": 0
}
